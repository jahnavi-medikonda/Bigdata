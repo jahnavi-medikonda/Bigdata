{
  "nbformat": 4,
  "nbformat_minor": 0,
  "metadata": {
    "colab": {
      "name": "Icp6.ipynb",
      "provenance": []
    },
    "kernelspec": {
      "name": "python3",
      "display_name": "Python 3"
    },
    "accelerator": "GPU"
  },
  "cells": [
    {
      "cell_type": "markdown",
      "source": [
        "Import the libraries required for the text generation"
      ],
      "metadata": {
        "id": "MBKCktqX-U9v"
      }
    },
    {
      "cell_type": "code",
      "metadata": {
        "id": "8ytaPiTOaAz7"
      },
      "source": [
        "import tensorflow as tsf\n",
        "\n",
        "import numpy as ny\n",
        "import os\n",
        "import time\n"
      ],
      "execution_count": 1,
      "outputs": []
    },
    {
      "cell_type": "markdown",
      "metadata": {
        "id": "0hLk4Dz-aTKa"
      },
      "source": [
        "Download the data"
      ]
    },
    {
      "cell_type": "code",
      "metadata": {
        "id": "sx7EhUpcaVES",
        "colab": {
          "base_uri": "https://localhost:8080/"
        },
        "outputId": "d627d63a-6fc8-47bc-90c5-51157e82ff14"
      },
      "source": [
        "path_to_file = tsf.keras.utils.get_file('ebook','https://www.gutenberg.org/cache/epub/35993/pg35993.txt')"
      ],
      "execution_count": 2,
      "outputs": [
        {
          "output_type": "stream",
          "name": "stdout",
          "text": [
            "Downloading data from https://www.gutenberg.org/cache/epub/35993/pg35993.txt\n",
            "1327104/1321209 [==============================] - 0s 0us/step\n",
            "1335296/1321209 [==============================] - 0s 0us/step\n"
          ]
        }
      ]
    },
    {
      "cell_type": "markdown",
      "metadata": {
        "id": "WApqqpagatXt"
      },
      "source": [
        "Read the data"
      ]
    },
    {
      "cell_type": "code",
      "metadata": {
        "id": "Xvqlq8bwaam5",
        "colab": {
          "base_uri": "https://localhost:8080/"
        },
        "outputId": "5afb03e7-5e47-4ead-86cf-64f0ef1c925f"
      },
      "source": [
        "# Read, then decode for py2 compat.\n",
        "content = open(path_to_file, 'rb').read().decode(encoding='utf-8')\n",
        "# length of text is the number of characters in it\n",
        "print ('Length of text: {} characters'.format(len(content)))\n",
        "\n"
      ],
      "execution_count": 3,
      "outputs": [
        {
          "output_type": "stream",
          "name": "stdout",
          "text": [
            "Length of text: 1321107 characters\n"
          ]
        }
      ]
    },
    {
      "cell_type": "code",
      "metadata": {
        "id": "1BYk1xhLa8V4",
        "outputId": "5e63556e-bcd6-44b6-dc63-e56be988a822",
        "colab": {
          "base_uri": "https://localhost:8080/"
        }
      },
      "source": [
        "# Take a look at the first 250 characters in text\n",
        "print(content[:250])"
      ],
      "execution_count": 4,
      "outputs": [
        {
          "output_type": "stream",
          "name": "stdout",
          "text": [
            "﻿The Project Gutenberg EBook of The History of Don Quixote de la Mancha, by \r\n",
            "Miguel de Cervantes Saavedra\r\n",
            "\r\n",
            "This eBook is for the use of anyone anywhere at no cost and with\r\n",
            "almost no restrictions whatsoever.  You may copy it, give it away or\r\n",
            "re-u\n"
          ]
        }
      ]
    },
    {
      "cell_type": "code",
      "metadata": {
        "id": "lkJ_5C5ybOq_",
        "outputId": "fa97897c-8c02-4b84-d554-681a121bc501",
        "colab": {
          "base_uri": "https://localhost:8080/"
        }
      },
      "source": [
        "# The unique characters in the file\n",
        "voc = sorted(set(content))\n",
        "print ('{} unique characters'.format(len(voc)))"
      ],
      "execution_count": 5,
      "outputs": [
        {
          "output_type": "stream",
          "name": "stdout",
          "text": [
            "94 unique characters\n"
          ]
        }
      ]
    },
    {
      "cell_type": "markdown",
      "metadata": {
        "id": "ap6LKRZvbYx1"
      },
      "source": [
        "\n",
        "\n",
        "Vectorize the text"
      ]
    },
    {
      "cell_type": "code",
      "metadata": {
        "id": "LlJwkz5RbdMw"
      },
      "source": [
        "# Creating a mapping from unique characters to indices\n",
        "char2idx = {u:i for i, u in enumerate(voc)}\n",
        "idx2char = ny.array(voc)\n",
        "\n",
        "text_asint = ny.array([char2idx[c] for c in content])"
      ],
      "execution_count": 6,
      "outputs": []
    },
    {
      "cell_type": "markdown",
      "metadata": {
        "id": "1TJxiSQ1hhNW"
      },
      "source": [
        "The prediction task\n"
      ]
    },
    {
      "cell_type": "code",
      "metadata": {
        "id": "tuF_yJGthnvN",
        "outputId": "5f12c5e2-7557-4b19-8d7b-3f7b3aa950cf",
        "colab": {
          "base_uri": "https://localhost:8080/"
        }
      },
      "source": [
        "# The maximum length sentence we want for a single input in characters\n",
        "seq_len = 100\n",
        "epoch = len(content)//(seq_len+1)\n",
        "\n",
        "# Create training examples / targets\n",
        "char_dataset = tsf.data.Dataset.from_tensor_slices(text_asint)\n",
        "\n",
        "for i in char_dataset.take(5):\n",
        "  print(idx2char[i.numpy()])"
      ],
      "execution_count": 7,
      "outputs": [
        {
          "output_type": "stream",
          "name": "stdout",
          "text": [
            "﻿\n",
            "T\n",
            "h\n",
            "e\n",
            " \n"
          ]
        }
      ]
    },
    {
      "cell_type": "markdown",
      "metadata": {
        "id": "EtyvL4vFiDW9"
      },
      "source": [
        "The batch method lets us easily convert these individual characters to sequences of the desired size."
      ]
    },
    {
      "cell_type": "code",
      "metadata": {
        "id": "fDzAi9mmiG6J",
        "outputId": "3b59e259-b4d4-4aba-c23c-9913928b8436",
        "colab": {
          "base_uri": "https://localhost:8080/"
        }
      },
      "source": [
        "seq = char_dataset.batch(seq_len+1, drop_remainder=True)\n",
        "\n",
        "for item in seq.take(5):\n",
        "  print(repr(''.join(str(v) for v in idx2char[item.numpy()])))"
      ],
      "execution_count": 8,
      "outputs": [
        {
          "output_type": "stream",
          "name": "stdout",
          "text": [
            "'\\ufeffThe Project Gutenberg EBook of The History of Don Quixote de la Mancha, by \\r\\nMiguel de Cervantes Saa'\n",
            "'vedra\\r\\n\\r\\nThis eBook is for the use of anyone anywhere at no cost and with\\r\\nalmost no restrictions wha'\n",
            "'tsoever.  You may copy it, give it away or\\r\\nre-use it under the terms of the Project Gutenberg Licens'\n",
            "'e included\\r\\nwith this eBook or online at www.gutenberg.org\\r\\n\\r\\n\\r\\nTitle: The History of Don Quixote de '\n",
            "'la Mancha\\r\\n\\r\\nAuthor: Miguel de Cervantes Saavedra\\r\\n\\r\\nRelease Date: April 29, 2011 [EBook #35993]\\r\\n\\r\\nL'\n"
          ]
        }
      ]
    },
    {
      "cell_type": "markdown",
      "metadata": {
        "id": "Lpa_PJ1kilMf"
      },
      "source": [
        "For each sequence, duplicate and shift it to form the input and target text by using the map method to apply a simple function to each batch:"
      ]
    },
    {
      "cell_type": "code",
      "metadata": {
        "id": "6Fz9l6xTimnV"
      },
      "source": [
        "def split_input_target(chunk):\n",
        "  ip_txt = chunk[:-1]\n",
        "  tg_txt = chunk[1:]\n",
        "  return ip_txt, tg_txt\n",
        "\n",
        "data_set = seq.map(split_input_target)"
      ],
      "execution_count": 9,
      "outputs": []
    },
    {
      "cell_type": "markdown",
      "metadata": {
        "id": "d0TUAUR_i39T"
      },
      "source": [
        "Print the input and target values:"
      ]
    },
    {
      "cell_type": "code",
      "metadata": {
        "id": "9loei1c-i5fT",
        "outputId": "6f9dfc3e-8835-477a-cf8d-521e8d2b0663",
        "colab": {
          "base_uri": "https://localhost:8080/"
        }
      },
      "source": [
        "for input, target in  data_set.take(1):\n",
        "  print ('Input data: ', repr(''.join(map(str,idx2char[input.numpy()]))))\n",
        "  print ('Target data:', repr(''.join(map(str,idx2char[target.numpy()]))))"
      ],
      "execution_count": 10,
      "outputs": [
        {
          "output_type": "stream",
          "name": "stdout",
          "text": [
            "Input data:  '\\ufeffThe Project Gutenberg EBook of The History of Don Quixote de la Mancha, by \\r\\nMiguel de Cervantes Sa'\n",
            "Target data: 'The Project Gutenberg EBook of The History of Don Quixote de la Mancha, by \\r\\nMiguel de Cervantes Saa'\n"
          ]
        }
      ]
    },
    {
      "cell_type": "markdown",
      "metadata": {
        "id": "gTXfK1w6jtTg"
      },
      "source": [
        "Create training batches"
      ]
    },
    {
      "cell_type": "code",
      "metadata": {
        "id": "Hpe5_lsee4dg",
        "outputId": "b78df471-b8ce-4b0f-9222-70bfa01ab2d1",
        "colab": {
          "base_uri": "https://localhost:8080/"
        }
      },
      "source": [
        "# Batch size\n",
        "BATCH_SIZE = 32\n",
        "\n",
        "# Buffer size to shuffle the dataset\n",
        "BUFFER_SIZE = 100\n",
        "\n",
        "data_set = data_set.shuffle(BUFFER_SIZE).batch(BATCH_SIZE, drop_remainder=True)\n",
        "\n",
        "data_set"
      ],
      "execution_count": 11,
      "outputs": [
        {
          "output_type": "execute_result",
          "data": {
            "text/plain": [
              "<BatchDataset element_spec=(TensorSpec(shape=(32, 100), dtype=tf.int64, name=None), TensorSpec(shape=(32, 100), dtype=tf.int64, name=None))>"
            ]
          },
          "metadata": {},
          "execution_count": 11
        }
      ]
    },
    {
      "cell_type": "code",
      "metadata": {
        "id": "WHaiwI1_knUL"
      },
      "source": [
        "# Length of the vocabulary in chars\n",
        "voc_size = len(voc)\n",
        "\n",
        "# The embedding dimension\n",
        "embedding_dim = 256\n",
        "\n",
        "# Number of RNN units\n",
        "rnn_units = 1024"
      ],
      "execution_count": 12,
      "outputs": []
    },
    {
      "cell_type": "markdown",
      "source": [
        "Build The Model\n",
        "\n",
        "Use tsf.keras.Sequential to define the model."
      ],
      "metadata": {
        "id": "hRIP1rYZ_xQE"
      }
    },
    {
      "cell_type": "code",
      "metadata": {
        "id": "vqDUtzUblPuG"
      },
      "source": [
        "def build_model(voc_size, embedding_dim, rnn_units, batch_size):\n",
        "  model = tsf.keras.Sequential([\n",
        "    tsf.keras.layers.Embedding(voc_size, embedding_dim,\n",
        "                              batch_input_shape=[batch_size, None]),\n",
        "    tsf.keras.layers.LSTM(rnn_units,\n",
        "                        return_sequences=True,\n",
        "                        stateful=True,\n",
        "                        recurrent_initializer='glorot_uniform'),\n",
        "    tsf.keras.layers.Dense(voc_size),\n",
        "  ])\n",
        "  return model"
      ],
      "execution_count": 13,
      "outputs": []
    },
    {
      "cell_type": "code",
      "metadata": {
        "id": "PZ4QMEsMlZV6"
      },
      "source": [
        "\n",
        "model = build_model(\n",
        "    voc_size = len(voc),\n",
        "    embedding_dim = embedding_dim,\n",
        "    rnn_units=rnn_units,\n",
        "    batch_size=BATCH_SIZE)"
      ],
      "execution_count": 14,
      "outputs": []
    },
    {
      "cell_type": "markdown",
      "metadata": {
        "id": "qzqB_vXQlsra"
      },
      "source": [
        "Try the model\n",
        "\n",
        "Now run the model to see that it behaves as expected.\n",
        "\n",
        "First check the shape of the output:"
      ]
    },
    {
      "cell_type": "code",
      "metadata": {
        "id": "GGTwvn-9mch1",
        "colab": {
          "base_uri": "https://localhost:8080/"
        },
        "outputId": "689314b5-5423-4f5c-cfce-91183a0f97f7"
      },
      "source": [
        "for input_batch, target_batch in data_set.take(1):\n",
        "  batch_prediction = model(input_batch)\n",
        "  print(batch_prediction.shape, \"# (batch_size, sequence_length, vocab_size)\")"
      ],
      "execution_count": 15,
      "outputs": [
        {
          "output_type": "stream",
          "name": "stdout",
          "text": [
            "(32, 100, 94) # (batch_size, sequence_length, vocab_size)\n"
          ]
        }
      ]
    },
    {
      "cell_type": "code",
      "metadata": {
        "id": "RxKU4npylbZs",
        "outputId": "cdf69701-ab95-4ebf-8bc9-8159d84a078f",
        "colab": {
          "base_uri": "https://localhost:8080/"
        }
      },
      "source": [
        "\n",
        "model.summary()"
      ],
      "execution_count": 16,
      "outputs": [
        {
          "output_type": "stream",
          "name": "stdout",
          "text": [
            "Model: \"sequential\"\n",
            "_________________________________________________________________\n",
            " Layer (type)                Output Shape              Param #   \n",
            "=================================================================\n",
            " embedding (Embedding)       (32, None, 256)           24064     \n",
            "                                                                 \n",
            " lstm (LSTM)                 (32, None, 1024)          5246976   \n",
            "                                                                 \n",
            " dense (Dense)               (32, None, 94)            96350     \n",
            "                                                                 \n",
            "=================================================================\n",
            "Total params: 5,367,390\n",
            "Trainable params: 5,367,390\n",
            "Non-trainable params: 0\n",
            "_________________________________________________________________\n"
          ]
        }
      ]
    },
    {
      "cell_type": "markdown",
      "metadata": {
        "id": "RY9RA1IjnVPy"
      },
      "source": [
        "To get actual predictions from the model we need to sample from the output distribution, to get actual character indices. \n"
      ]
    },
    {
      "cell_type": "code",
      "metadata": {
        "id": "klpi-b6ZnA4v",
        "outputId": "5f868fec-4d4e-4556-b472-c94ebecf0fb6",
        "colab": {
          "base_uri": "https://localhost:8080/"
        }
      },
      "source": [
        "sample_indices = tsf.random.categorical(batch_prediction[0], num_samples=1)\n",
        "sample_indices = tsf.squeeze(sample_indices,axis=-1).numpy()\n",
        "# a prediction of the next character index:\n",
        "sample_indices"
      ],
      "execution_count": 17,
      "outputs": [
        {
          "output_type": "execute_result",
          "data": {
            "text/plain": [
              "array([36, 51, 17,  4, 42, 52, 55,  8, 93, 45, 20, 25, 43, 10, 61, 85, 12,\n",
              "       42, 20, 56,  0, 68,  1, 26, 87, 74, 90,  7, 59, 56,  1, 81, 36, 50,\n",
              "       80, 86, 77,  8, 44, 19, 20, 34, 71, 72, 31, 22, 12, 28, 29, 26, 40,\n",
              "       50, 20, 46, 29, 62, 35, 85, 19, 70, 61, 79, 44, 22, 69, 33, 49, 73,\n",
              "       71, 56, 40, 79,  1, 32, 93, 35, 49, 14, 74, 30, 19, 76, 51, 60, 58,\n",
              "       58, 25, 76, 88, 61, 74, 56, 51, 20, 45, 12, 16, 63,  5,  9])"
            ]
          },
          "metadata": {},
          "execution_count": 17
        }
      ]
    },
    {
      "cell_type": "markdown",
      "metadata": {
        "id": "8cpt66icn3LZ"
      },
      "source": [
        "Train the model\n"
      ]
    },
    {
      "cell_type": "code",
      "metadata": {
        "id": "XL77odsVn7G4",
        "colab": {
          "base_uri": "https://localhost:8080/"
        },
        "outputId": "fd0e72e0-28b6-42bc-cfcd-9179cbb89292"
      },
      "source": [
        "def loss(labels, logits):\n",
        "  return tsf.keras.losses.sparse_categorical_crossentropy(labels, logits, from_logits=True)\n",
        "\n",
        "batch_loss  = loss(target_batch,batch_prediction)\n",
        "print(\"Prediction shape: \", batch_prediction.shape, \" # (batch_size, sequence_length, vocab_size)\")\n",
        "print(\"scalar_loss:      \", batch_loss.numpy().mean())"
      ],
      "execution_count": 18,
      "outputs": [
        {
          "output_type": "stream",
          "name": "stdout",
          "text": [
            "Prediction shape:  (32, 100, 94)  # (batch_size, sequence_length, vocab_size)\n",
            "scalar_loss:       4.545524\n"
          ]
        }
      ]
    },
    {
      "cell_type": "markdown",
      "metadata": {
        "id": "WAZQZedVoRzi"
      },
      "source": [
        "Configure the training procedure using the tf.keras.Model.compile method. We'll use tf.keras.optimizers.Adam with default arguments and the loss function."
      ]
    },
    {
      "cell_type": "code",
      "metadata": {
        "id": "ROcK85vxoSGB"
      },
      "source": [
        "model.compile(optimizer='adam', loss=loss)"
      ],
      "execution_count": 19,
      "outputs": []
    },
    {
      "cell_type": "markdown",
      "metadata": {
        "id": "6wsLm3DcolOB"
      },
      "source": [
        "Configure checkpoints\n",
        "\n",
        "Use a tf.keras.callbacks.ModelCheckpoint to ensure that checkpoints are saved during training:"
      ]
    },
    {
      "cell_type": "code",
      "metadata": {
        "id": "MBjDBQ6iooRs"
      },
      "source": [
        "# Directory where the checkpoints will be saved\n",
        "checkpoint_dir = './training_checkpoints'\n",
        "# Name of the checkpoint files\n",
        "checkpoint_prefix = os.path.join(checkpoint_dir, \"ckpt_{epoch}\")\n",
        "\n",
        "checkpoint_callback=tsf.keras.callbacks.ModelCheckpoint(\n",
        "    filepath=checkpoint_prefix,\n",
        "    save_weights_only=True)"
      ],
      "execution_count": 20,
      "outputs": []
    },
    {
      "cell_type": "markdown",
      "metadata": {
        "id": "rqctwrjRoyol"
      },
      "source": [
        "Execute the training\n",
        "\n",
        "To keep training time reasonable, use 20 epochs to train the model. "
      ]
    },
    {
      "cell_type": "code",
      "metadata": {
        "id": "j4Xhz4YXo_WF",
        "colab": {
          "base_uri": "https://localhost:8080/"
        },
        "outputId": "a0620981-dbed-4f90-89a8-d80a54d5905d"
      },
      "source": [
        "\n",
        "EPOCHS=20\n",
        "history = model.fit(data_set, epochs=EPOCHS, callbacks=[checkpoint_callback])"
      ],
      "execution_count": null,
      "outputs": [
        {
          "output_type": "stream",
          "name": "stdout",
          "text": [
            "Epoch 1/20\n",
            " 29/408 [=>............................] - ETA: 36:06 - loss: 3.5377"
          ]
        }
      ]
    },
    {
      "cell_type": "markdown",
      "metadata": {
        "id": "JvTbxfT9qL02"
      },
      "source": [
        "Generate text\n",
        "\n",
        "Restore the latest checkpoint\n",
        "To keep this prediction step simple, use a batch size of 1.\n",
        "\n",
        "Because of the way the RNN state is passed from timestep to timestep, the model only accepts a fixed batch size once built.\n",
        "\n",
        "To run the model with a different batch_size, we need to rebuild the model and restore the weights from the checkpoint."
      ]
    },
    {
      "cell_type": "code",
      "metadata": {
        "id": "jgI-Ekp6qO9T"
      },
      "source": [
        "tsf.train.latest_checkpoint(checkpoint_dir)\n",
        "model = build_model(voc_size, embedding_dim, rnn_units, batch_size=1)\n",
        "\n",
        "model.load_weights(tsf.train.latest_checkpoint(checkpoint_dir))\n",
        "\n",
        "model.build(tsf.TensorShape([1, None]))\n",
        "model.summary()"
      ],
      "execution_count": null,
      "outputs": []
    },
    {
      "cell_type": "markdown",
      "metadata": {
        "id": "sydC-N4iqpfZ"
      },
      "source": [
        "The prediction loop\n"
      ]
    },
    {
      "cell_type": "code",
      "metadata": {
        "id": "Nwxb5OPEqtgS"
      },
      "source": [
        "def generate_text(model, start_string):\n",
        "  # Evaluation step (generating text using the learned model)\n",
        "\n",
        "  # Number of characters to generate\n",
        "  num_generate = 10000\n",
        "\n",
        "  # Converting our start string to numbers (vectorizing)\n",
        "  ip_eval = [char2idx[s] for s in start_string]\n",
        "  ip_eval = tsf.expand_dims(ip_eval, 0)\n",
        "\n",
        "  # Empty string to store our results\n",
        "  text_generate = []\n",
        "\n",
        "  # Low temperatures results in more predictable text.\n",
        "  # Higher temperatures results in more surprising text.\n",
        "  # Experiment to find the best setting.\n",
        "  temp = 2.0\n",
        "\n",
        "  # Here batch size == 1\n",
        "  model.reset_states()\n",
        "  for i in range(num_generate):\n",
        "    predictions = model(ip_eval)\n",
        "    # remove the batch dimension\n",
        "    predictions = tsf.squeeze(predictions, 0)\n",
        "\n",
        "    # using a categorical distribution to predict the character returned by the model\n",
        "    prediction = predictions / temp\n",
        "    predicted_id = tsf.random.categorical(prediction, num_samples=1)[-1,0].numpy()\n",
        "\n",
        "    # We pass the predicted character as the next input to the model\n",
        "    # along with the previous hidden state\n",
        "    ip_eval = tsf.expand_dims([predicted_id], 0)\n",
        "\n",
        "    text_generate.append(idx2char[predicted_id])\n",
        "\n",
        "  return (start_string + ''.join(text_generate))"
      ],
      "execution_count": null,
      "outputs": []
    },
    {
      "cell_type": "code",
      "metadata": {
        "id": "8rYFxSWjrEC2"
      },
      "source": [
        "print(generate_text(model, start_string=u\"the\"))"
      ],
      "execution_count": null,
      "outputs": []
    }
  ]
}